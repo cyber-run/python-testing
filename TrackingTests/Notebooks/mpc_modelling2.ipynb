{
 "cells": [
  {
   "cell_type": "code",
   "execution_count": 14,
   "metadata": {},
   "outputs": [],
   "source": [
    "import numpy as np\n",
    "import do_mpc\n",
    "\n",
    "model_type = 'continuous'\n",
    "model = do_mpc.model.Model(model_type)\n",
    "\n",
    "# Define the system's state variables\n",
    "theta = model.set_variable('_x', 'theta')  # Servo's angular position\n",
    "omega = model.set_variable('_x', 'omega')  # Servo's angular velocity\n",
    "\n",
    "# Define the control input\n",
    "control_omega = model.set_variable('_u', 'control_omega')  # Angular velocity command\n",
    "\n",
    "# Time varying parameters\n",
    "target_theta = model.set_variable('_tvp', 'target_theta')\n",
    "target_omega = model.set_variable('_tvp', 'target_omega')\n",
    "\n",
    "# System equations\n",
    "model.set_rhs('theta', omega)\n",
    "model.set_rhs('omega', control_omega)\n",
    "\n",
    "model.setup()\n"
   ]
  },
  {
   "cell_type": "code",
   "execution_count": 15,
   "metadata": {},
   "outputs": [
    {
     "name": "stderr",
     "output_type": "stream",
     "text": [
      "/usr/local/lib/python3.11/site-packages/do_mpc/controller/_mpc.py:885: UserWarning: rterm was not set and defaults to zero. Changes in the control inputs are not penalized. Can lead to oscillatory behavior.\n",
      "  warnings.warn('rterm was not set and defaults to zero. Changes in the control inputs are not penalized. Can lead to oscillatory behavior.')\n"
     ]
    }
   ],
   "source": [
    "mpc = do_mpc.controller.MPC(model)\n",
    "\n",
    "setup_mpc = {\n",
    "    'n_horizon': 20,\n",
    "    't_step': 0.005,\n",
    "    'state_discretization': 'collocation',\n",
    "    'collocation_type': 'radau',\n",
    "    'collocation_deg': 2,\n",
    "    'collocation_ni': 2,\n",
    "    'store_full_solution': True,\n",
    "}\n",
    "\n",
    "mpc.set_param(**setup_mpc)\n",
    "\n",
    "# Define the objective function\n",
    "w_theta = 1.0  # Weight for angular position error\n",
    "w_omega = 0.1  # Weight for angular velocity error\n",
    "\n",
    "# Objective function\n",
    "lterm = w_theta * (model.x['theta'] - model.tvp['target_theta'])**2\n",
    "lterm += w_omega * (model.x['omega'] - model.tvp['target_omega'])**2\n",
    "mpc.set_objective(lterm=lterm, mterm=lterm)\n",
    "\n",
    "# Bounds for the control input\n",
    "yaw_omega_max = 100 * 360 / 60  # 100 RPM to deg/s\n",
    "mpc.bounds['lower','_u', 'control_omega'] = -yaw_omega_max\n",
    "mpc.bounds['upper','_u', 'control_omega'] = yaw_omega_max\n",
    "\n",
    "tvp_template = mpc.get_tvp_template()\n",
    "\n",
    "def tvp_fun(t_now):\n",
    "    amplitude = 45\n",
    "    frequency = 0.5\n",
    "\n",
    "    tvp_template['_tvp', :, 'target_theta'] = amplitude * np.sin(2 * np.pi * frequency * t_now)\n",
    "    tvp_template['_tvp', :, 'target_omega'] = amplitude * 2 * np.pi * frequency * np.cos(2 * np.pi * frequency * t_now)\n",
    "    \n",
    "    return tvp_template\n",
    "\n",
    "mpc.set_tvp_fun(tvp_fun)\n",
    "\n",
    "mpc.setup()\n"
   ]
  },
  {
   "cell_type": "code",
   "execution_count": 16,
   "metadata": {},
   "outputs": [
    {
     "ename": "Exception",
     "evalue": "You have not supplied a function to obtain the time-varying parameters defined in model. Use .set_tvp_fun() prior to setup.",
     "output_type": "error",
     "traceback": [
      "\u001b[0;31m---------------------------------------------------------------------------\u001b[0m",
      "\u001b[0;31mException\u001b[0m                                 Traceback (most recent call last)",
      "\u001b[1;32m/Users/charlie/Desktop/Working Folder/py-workbooks/python-testing/TrackingTests/Notebooks/mpc_modelling2.ipynb Cell 3\u001b[0m line \u001b[0;36m8\n\u001b[1;32m      <a href='vscode-notebook-cell:/Users/charlie/Desktop/Working%20Folder/py-workbooks/python-testing/TrackingTests/Notebooks/mpc_modelling2.ipynb#W2sZmlsZQ%3D%3D?line=4'>5</a>\u001b[0m initial_state \u001b[39m=\u001b[39m np\u001b[39m.\u001b[39marray([[\u001b[39m0\u001b[39m], [\u001b[39m0\u001b[39m]])  \u001b[39m# Replace with your initial state\u001b[39;00m\n\u001b[1;32m      <a href='vscode-notebook-cell:/Users/charlie/Desktop/Working%20Folder/py-workbooks/python-testing/TrackingTests/Notebooks/mpc_modelling2.ipynb#W2sZmlsZQ%3D%3D?line=5'>6</a>\u001b[0m simulator\u001b[39m.\u001b[39mx0 \u001b[39m=\u001b[39m initial_state\n\u001b[0;32m----> <a href='vscode-notebook-cell:/Users/charlie/Desktop/Working%20Folder/py-workbooks/python-testing/TrackingTests/Notebooks/mpc_modelling2.ipynb#W2sZmlsZQ%3D%3D?line=7'>8</a>\u001b[0m simulator\u001b[39m.\u001b[39;49msetup()\n",
      "File \u001b[0;32m/usr/local/lib/python3.11/site-packages/do_mpc/simulator.py:235\u001b[0m, in \u001b[0;36mSimulator.setup\u001b[0;34m(self)\u001b[0m\n\u001b[1;32m    227\u001b[0m \u001b[39mdef\u001b[39;00m \u001b[39msetup\u001b[39m(\u001b[39mself\u001b[39m)\u001b[39m-\u001b[39m\u001b[39m>\u001b[39m\u001b[39mNone\u001b[39;00m:\n\u001b[1;32m    228\u001b[0m \u001b[39m    \u001b[39m\u001b[39m\"\"\"Sets up the simulator and finalizes the simulator configuration.\u001b[39;00m\n\u001b[1;32m    229\u001b[0m \u001b[39m    Only after the setup, the :py:func:`make_step` method becomes available.\u001b[39;00m\n\u001b[1;32m    230\u001b[0m \n\u001b[1;32m    231\u001b[0m \u001b[39m    Raises:\u001b[39;00m\n\u001b[1;32m    232\u001b[0m \u001b[39m        assertion: t_step must be set\u001b[39;00m\n\u001b[1;32m    233\u001b[0m \u001b[39m    \"\"\"\u001b[39;00m\n\u001b[0;32m--> 235\u001b[0m     \u001b[39mself\u001b[39;49m\u001b[39m.\u001b[39;49m_check_validity()\n\u001b[1;32m    237\u001b[0m     \u001b[39mself\u001b[39m\u001b[39m.\u001b[39msim_x \u001b[39m=\u001b[39m sim_x \u001b[39m=\u001b[39m  \u001b[39mself\u001b[39m\u001b[39m.\u001b[39mmodel\u001b[39m.\u001b[39msv\u001b[39m.\u001b[39msym_struct([\n\u001b[1;32m    238\u001b[0m         castools\u001b[39m.\u001b[39mentry(\u001b[39m'\u001b[39m\u001b[39m_x\u001b[39m\u001b[39m'\u001b[39m, struct\u001b[39m=\u001b[39m\u001b[39mself\u001b[39m\u001b[39m.\u001b[39mmodel\u001b[39m.\u001b[39m_x)\n\u001b[1;32m    239\u001b[0m         ])\n\u001b[1;32m    240\u001b[0m     \u001b[39mself\u001b[39m\u001b[39m.\u001b[39msim_z \u001b[39m=\u001b[39m sim_z \u001b[39m=\u001b[39m  \u001b[39mself\u001b[39m\u001b[39m.\u001b[39mmodel\u001b[39m.\u001b[39msv\u001b[39m.\u001b[39msym_struct([\n\u001b[1;32m    241\u001b[0m         castools\u001b[39m.\u001b[39mentry(\u001b[39m'\u001b[39m\u001b[39m_z\u001b[39m\u001b[39m'\u001b[39m, struct\u001b[39m=\u001b[39m\u001b[39mself\u001b[39m\u001b[39m.\u001b[39mmodel\u001b[39m.\u001b[39m_z)\n\u001b[1;32m    242\u001b[0m         ])\n",
      "File \u001b[0;32m/usr/local/lib/python3.11/site-packages/do_mpc/simulator.py:208\u001b[0m, in \u001b[0;36mSimulator._check_validity\u001b[0;34m(self)\u001b[0m\n\u001b[1;32m    205\u001b[0m \u001b[39mdef\u001b[39;00m \u001b[39m_check_validity\u001b[39m(\u001b[39mself\u001b[39m):\n\u001b[1;32m    206\u001b[0m     \u001b[39m# tvp_fun must be set, if tvp are defined in model.\u001b[39;00m\n\u001b[1;32m    207\u001b[0m     \u001b[39mif\u001b[39;00m \u001b[39mself\u001b[39m\u001b[39m.\u001b[39mflags[\u001b[39m'\u001b[39m\u001b[39mset_tvp_fun\u001b[39m\u001b[39m'\u001b[39m] \u001b[39m==\u001b[39m \u001b[39mFalse\u001b[39;00m \u001b[39mand\u001b[39;00m \u001b[39mself\u001b[39m\u001b[39m.\u001b[39mmodel\u001b[39m.\u001b[39m_tvp\u001b[39m.\u001b[39msize \u001b[39m>\u001b[39m \u001b[39m0\u001b[39m:\n\u001b[0;32m--> 208\u001b[0m         \u001b[39mraise\u001b[39;00m \u001b[39mException\u001b[39;00m(\u001b[39m'\u001b[39m\u001b[39mYou have not supplied a function to obtain the time-varying parameters defined in model. Use .set_tvp_fun() prior to setup.\u001b[39m\u001b[39m'\u001b[39m)\n\u001b[1;32m    209\u001b[0m     \u001b[39m# p_fun must be set, if p are defined in model.\u001b[39;00m\n\u001b[1;32m    210\u001b[0m     \u001b[39mif\u001b[39;00m \u001b[39mself\u001b[39m\u001b[39m.\u001b[39mflags[\u001b[39m'\u001b[39m\u001b[39mset_p_fun\u001b[39m\u001b[39m'\u001b[39m] \u001b[39m==\u001b[39m \u001b[39mFalse\u001b[39;00m \u001b[39mand\u001b[39;00m \u001b[39mself\u001b[39m\u001b[39m.\u001b[39mmodel\u001b[39m.\u001b[39m_p\u001b[39m.\u001b[39msize \u001b[39m>\u001b[39m \u001b[39m0\u001b[39m:\n",
      "\u001b[0;31mException\u001b[0m: You have not supplied a function to obtain the time-varying parameters defined in model. Use .set_tvp_fun() prior to setup."
     ]
    }
   ],
   "source": [
    "simulator = do_mpc.simulator.Simulator(model)\n",
    "simulator.set_param(t_step=0.005)\n",
    "\n",
    "# Define initial state for the simulator\n",
    "initial_state = np.array([[0], [0]])  # Replace with your initial state\n",
    "simulator.x0 = initial_state\n",
    "\n",
    "simulator.setup()\n"
   ]
  },
  {
   "cell_type": "code",
   "execution_count": null,
   "metadata": {},
   "outputs": [],
   "source": [
    "for k in range(100):  # Simulate for 100 steps\n",
    "    u0 = mpc.make_step(simulator.x0)\n",
    "    y_next = simulator.make_step(u0)"
   ]
  }
 ],
 "metadata": {
  "kernelspec": {
   "display_name": "Python 3",
   "language": "python",
   "name": "python3"
  },
  "language_info": {
   "codemirror_mode": {
    "name": "ipython",
    "version": 3
   },
   "file_extension": ".py",
   "mimetype": "text/x-python",
   "name": "python",
   "nbconvert_exporter": "python",
   "pygments_lexer": "ipython3",
   "version": "3.11.6"
  }
 },
 "nbformat": 4,
 "nbformat_minor": 2
}
