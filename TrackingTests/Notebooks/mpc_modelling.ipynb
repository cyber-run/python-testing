{
 "cells": [
  {
   "cell_type": "code",
   "execution_count": 148,
   "metadata": {},
   "outputs": [],
   "source": [
    "import numpy as np\n",
    "import pandas as pd\n",
    "import do_mpc\n",
    "from casadi import *\n",
    "import sys"
   ]
  },
  {
   "cell_type": "code",
   "execution_count": 157,
   "metadata": {},
   "outputs": [
    {
     "data": {
      "text/plain": [
       "286.4788975654116"
      ]
     },
     "execution_count": 157,
     "metadata": {},
     "output_type": "execute_result"
    }
   ],
   "source": [
    "# Given tangential velocity and radius, calculate angular velocity in degrees per second\n",
    "\n",
    "tangential_velocity = 5  # m/s\n",
    "radius = 1  # meters\n",
    "\n",
    "# Angular velocity in radians per second\n",
    "angular_velocity_rad = tangential_velocity / radius\n",
    "\n",
    "# Convert to degrees per second\n",
    "angular_velocity_deg = angular_velocity_rad * (180 / np.pi)  # radians to degrees conversion\n",
    "angular_velocity_deg\n"
   ]
  },
  {
   "cell_type": "code",
   "execution_count": 162,
   "metadata": {},
   "outputs": [
    {
     "data": {
      "text/plain": [
       "0.47123889803846897"
      ]
     },
     "execution_count": 162,
     "metadata": {},
     "output_type": "execute_result"
    }
   ],
   "source": [
    "angular_velocity_deg = 360\n",
    "\n",
    "radius = 0.075\n",
    "\n",
    "angular_velocity_rad = angular_velocity_deg * (np.pi / 180)  # degrees to radians conversion\n",
    "\n",
    "tangential_velocity = angular_velocity_rad * radius\n",
    "\n",
    "tangential_velocity # m/s\n"
   ]
  },
  {
   "cell_type": "code",
   "execution_count": 150,
   "metadata": {},
   "outputs": [],
   "source": [
    "# MODEL DEFINITION\n",
    "\n",
    "model_type = 'continuous'\n",
    "model = do_mpc.model.Model(model_type)\n",
    "\n",
    "# Define some system constraints\n",
    "yaw_theta_max = 45  # degrees\n",
    "yaw_theta_min = -45  # degrees\n",
    "yaw_omega_max = 100 * 360 / 60  # 100 RPM to deg/s\n",
    "\n",
    "# Assuming theta is the angular position of the servo and omega is its angular velocity\n",
    "theta = model.set_variable('_x', 'theta')\n",
    "omega = model.set_variable('_x', 'omega')\n",
    "\n",
    "# Control input for the servo (angular velocity command)\n",
    "control_omega = model.set_variable('_u', 'control_omega')\n",
    "\n",
    "# Target's position and velocity as external inputs\n",
    "target_theta = model.set_variable('_tvp', 'target_theta')\n",
    "target_omega = model.set_variable('_u', 'target_omega')\n",
    "\n",
    "# Incorporate uncertainty parameters into your system's equations\n",
    "alpha = model.set_variable('_p', 'alpha')\n",
    "beta = model.set_variable('_p', 'beta')\n",
    "\n",
    "# System equations\n",
    "model.set_rhs('theta', omega)  # Change in angle is current angular velocity\n",
    "model.set_rhs('omega', control_omega)  # Control input directly sets angular velocity\n",
    "\n",
    "model.setup()\n"
   ]
  },
  {
   "cell_type": "code",
   "execution_count": 151,
   "metadata": {},
   "outputs": [],
   "source": [
    "# CONTROLLER DEFINITION\n",
    "\n",
    "mpc = do_mpc.controller.MPC(model)\n",
    "\n",
    "setup_mpc = {\n",
    "    'n_horizon': 20,\n",
    "    'n_robust': 1,\n",
    "    'open_loop': 0,\n",
    "    't_step': 0.005,\n",
    "    'state_discretization': 'collocation',\n",
    "    'collocation_type': 'radau',\n",
    "    'collocation_deg': 2,\n",
    "    'collocation_ni': 2,\n",
    "    'store_full_solution': True,\n",
    "    # Use MA27 linear solver in ipopt for faster calculations:\n",
    "    #'nlpsol_opts': {'ipopt.linear_solver': 'MA27'}\n",
    "}\n",
    "\n",
    "mpc.set_param(**setup_mpc)\n",
    "\n",
    "# Apply constraints to the model\n",
    "mpc.bounds['lower','_x', 'theta'] = yaw_theta_min\n",
    "mpc.bounds['upper','_x', 'theta'] = yaw_theta_max\n",
    "mpc.bounds['lower','_u', 'control_omega'] = -yaw_omega_max\n",
    "mpc.bounds['upper','_u', 'control_omega'] = yaw_omega_max\n",
    "\n",
    "# OBJECTIVE FUNCTION DEFINITION\n",
    "\n",
    "# Weights for the cost function components\n",
    "w_theta = 1.0  # Weight for position error\n",
    "w_omega = 0.4  # Weight for velocity error\n",
    "\n",
    "# Define the stage cost (cost at each time step in the horizon)\n",
    "lterm = w_theta * (model.x['theta'] - model.tvp['target_theta'])**2 + w_omega * (model.x['omega'] - model.u['target_omega'])**2\n",
    "\n",
    "# Define the terminal cost (cost at the end of the prediction horizon)\n",
    "mterm = w_theta * (model.x['theta'] - model.tvp['target_theta'])**2  # You can modify this as needed\n",
    "\n",
    "mpc.set_objective(lterm=lterm, mterm=mterm)\n",
    "\n",
    "# You can also include a penalty on the change in control input if desired\n",
    "mpc.set_rterm(control_omega=0.01)  # This is a small penalty for large changes in control input\n",
    "\n",
    "alpha_var = np.array([1., 1.05, 0.95])\n",
    "beta_var = np.array([1., 1.1, 0.9])\n",
    "\n",
    "mpc.set_uncertainty_values(alpha = alpha_var, beta = beta_var)"
   ]
  },
  {
   "cell_type": "code",
   "execution_count": 152,
   "metadata": {},
   "outputs": [
    {
     "ename": "AssertionError",
     "evalue": "Incorrect output of tvp_fun. Use get_tvp_template to obtain the required structure.",
     "output_type": "error",
     "traceback": [
      "\u001b[0;31m---------------------------------------------------------------------------\u001b[0m",
      "\u001b[0;31mAssertionError\u001b[0m                            Traceback (most recent call last)",
      "\u001b[1;32m/Users/charlie/Desktop/Working Folder/py-workbooks/python-testing/TrackingTests/Notebooks/mpc_modelling.ipynb Cell 5\u001b[0m line \u001b[0;36m3\n\u001b[1;32m     <a href='vscode-notebook-cell:/Users/charlie/Desktop/Working%20Folder/py-workbooks/python-testing/TrackingTests/Notebooks/mpc_modelling.ipynb#W6sZmlsZQ%3D%3D?line=35'>36</a>\u001b[0m simulator\u001b[39m.\u001b[39mset_tvp_fun(tvp_fun)\n\u001b[1;32m     <a href='vscode-notebook-cell:/Users/charlie/Desktop/Working%20Folder/py-workbooks/python-testing/TrackingTests/Notebooks/mpc_modelling.ipynb#W6sZmlsZQ%3D%3D?line=37'>38</a>\u001b[0m \u001b[39m# Set the TVP function in the MPC\u001b[39;00m\n\u001b[0;32m---> <a href='vscode-notebook-cell:/Users/charlie/Desktop/Working%20Folder/py-workbooks/python-testing/TrackingTests/Notebooks/mpc_modelling.ipynb#W6sZmlsZQ%3D%3D?line=38'>39</a>\u001b[0m mpc\u001b[39m.\u001b[39;49mset_tvp_fun(tvp_fun)\n\u001b[1;32m     <a href='vscode-notebook-cell:/Users/charlie/Desktop/Working%20Folder/py-workbooks/python-testing/TrackingTests/Notebooks/mpc_modelling.ipynb#W6sZmlsZQ%3D%3D?line=40'>41</a>\u001b[0m simulator\u001b[39m.\u001b[39mset_p_fun(p_fun)\n\u001b[1;32m     <a href='vscode-notebook-cell:/Users/charlie/Desktop/Working%20Folder/py-workbooks/python-testing/TrackingTests/Notebooks/mpc_modelling.ipynb#W6sZmlsZQ%3D%3D?line=42'>43</a>\u001b[0m \u001b[39m# Define the simulator's initial state\u001b[39;00m\n",
      "File \u001b[0;32m/usr/local/lib/python3.11/site-packages/do_mpc/optimizer.py:672\u001b[0m, in \u001b[0;36mOptimizer.set_tvp_fun\u001b[0;34m(self, tvp_fun)\u001b[0m\n\u001b[1;32m    633\u001b[0m \u001b[39m\u001b[39m\u001b[39m\"\"\" Set function which returns time-varying parameters.\u001b[39;00m\n\u001b[1;32m    634\u001b[0m \n\u001b[1;32m    635\u001b[0m \u001b[39mThe ``tvp_fun`` is called at each optimization step to get the current prediction of the time-varying parameters.\u001b[39;00m\n\u001b[0;32m   (...)\u001b[0m\n\u001b[1;32m    669\u001b[0m \u001b[39m    tvp_fun: Function that returns the predicted tvp values at each timestep. Must have single input (float) and return a ``structure3.DMStruct`` (obtained with :py:func:`get_tvp_template`).\u001b[39;00m\n\u001b[1;32m    670\u001b[0m \u001b[39m\"\"\"\u001b[39;00m\n\u001b[1;32m    671\u001b[0m \u001b[39massert\u001b[39;00m \u001b[39misinstance\u001b[39m(tvp_fun(\u001b[39m0\u001b[39m), castools\u001b[39m.\u001b[39mstructure3\u001b[39m.\u001b[39mDMStruct), \u001b[39m'\u001b[39m\u001b[39mIncorrect output of tvp_fun. Use get_tvp_template to obtain the required structure.\u001b[39m\u001b[39m'\u001b[39m\n\u001b[0;32m--> 672\u001b[0m \u001b[39massert\u001b[39;00m \u001b[39mself\u001b[39m\u001b[39m.\u001b[39mget_tvp_template()\u001b[39m.\u001b[39mlabels() \u001b[39m==\u001b[39m tvp_fun(\u001b[39m0\u001b[39m)\u001b[39m.\u001b[39mlabels(), \u001b[39m'\u001b[39m\u001b[39mIncorrect output of tvp_fun. Use get_tvp_template to obtain the required structure.\u001b[39m\u001b[39m'\u001b[39m\n\u001b[1;32m    674\u001b[0m \u001b[39mself\u001b[39m\u001b[39m.\u001b[39mflags[\u001b[39m'\u001b[39m\u001b[39mset_tvp_fun\u001b[39m\u001b[39m'\u001b[39m] \u001b[39m=\u001b[39m \u001b[39mTrue\u001b[39;00m\n\u001b[1;32m    676\u001b[0m \u001b[39mself\u001b[39m\u001b[39m.\u001b[39mtvp_fun \u001b[39m=\u001b[39m tvp_fun\n",
      "\u001b[0;31mAssertionError\u001b[0m: Incorrect output of tvp_fun. Use get_tvp_template to obtain the required structure."
     ]
    }
   ],
   "source": [
    "\n",
    "# ESTIMATOR DEFINITION\n",
    "\n",
    "# assume all states can be directly measured ie state feedback\n",
    "estimator = do_mpc.estimator.StateFeedback(model)\n",
    "\n",
    "# SIMULATOR DEFINITION\n",
    "\n",
    "initial_theta = 5\n",
    "initial_omega = 0\n",
    "\n",
    "# Create closed loop simulator to run MPC\n",
    "simulator = do_mpc.simulator.Simulator(model)\n",
    "\n",
    "params_simulator = {\n",
    "    'integration_tool': 'cvodes',\n",
    "    'abstol': 1e-8,\n",
    "    'reltol': 1e-8,\n",
    "    't_step': 0.005,\n",
    "}\n",
    "\n",
    "simulator.set_param(**params_simulator)\n",
    "\n",
    "p_num = simulator.get_p_template()\n",
    "tvp_num = simulator.get_tvp_template()\n",
    "\n",
    "# function for time-varying parameters\n",
    "def tvp_fun(t_now):\n",
    "    return tvp_num\n",
    "\n",
    "# uncertain parameters\n",
    "p_num['alpha'] = 1\n",
    "p_num['beta'] = 1\n",
    "\n",
    "def p_fun(t_now):\n",
    "    return p_num\n",
    "\n",
    "simulator.set_tvp_fun(tvp_fun)\n",
    "\n",
    "# Set the TVP function in the MPC\n",
    "mpc.set_tvp_fun(tvp_fun)\n",
    "\n",
    "simulator.set_p_fun(p_fun)\n",
    "\n",
    "# Define the simulator's initial state\n",
    "x0 = np.array([[initial_theta], [initial_omega]])\n",
    "simulator.x0 = x0\n",
    "mpc.x0 = x0\n",
    "\n",
    "mpc.setup()\n",
    "simulator.setup()"
   ]
  },
  {
   "cell_type": "code",
   "execution_count": null,
   "metadata": {},
   "outputs": [],
   "source": [
    "# Prepare for storing simulation data\n",
    "history = {\n",
    "    'theta': [],\n",
    "    'omega': [],\n",
    "    'control_omega': []\n",
    "}\n",
    "\n",
    "# Simulation loop\n",
    "for k in range(100):  # Let's assume 100 time steps for this example\n",
    "    u0 = mpc.make_step(x0)\n",
    "    y_next = simulator.make_step(u0)\n",
    "    \n",
    "    # Store the simulation data\n",
    "    history['theta'].append(y_next['theta'])\n",
    "    history['omega'].append(y_next['omega'])\n",
    "    history['control_omega'].append(u0)\n",
    "\n",
    "    # Update the state\n",
    "    x0 = y_next"
   ]
  }
 ],
 "metadata": {
  "kernelspec": {
   "display_name": "venv38",
   "language": "python",
   "name": "python3"
  },
  "language_info": {
   "codemirror_mode": {
    "name": "ipython",
    "version": 3
   },
   "file_extension": ".py",
   "mimetype": "text/x-python",
   "name": "python",
   "nbconvert_exporter": "python",
   "pygments_lexer": "ipython3",
   "version": "3.11.6"
  }
 },
 "nbformat": 4,
 "nbformat_minor": 2
}
