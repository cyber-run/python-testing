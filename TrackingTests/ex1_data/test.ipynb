{
 "cells": [
  {
   "cell_type": "code",
   "execution_count": 16,
   "metadata": {},
   "outputs": [],
   "source": [
    "import numpy as np\n",
    "import pandas as pd\n",
    "import do_mpc as mpc\n",
    "from casadi import *\n",
    "import sys"
   ]
  },
  {
   "cell_type": "code",
   "execution_count": null,
   "metadata": {},
   "outputs": [],
   "source": [
    "def model():\n",
    "    # Create a do-mpc model\n",
    "    m = mpc.model.Model('continuous')\n",
    "\n",
    "    # Define system variables\n",
    "    servo_pos = m.set_variable(var_type='_x', var_name='servo_pos', shape=(1,1))\n",
    "    servo_vel = m.set_variable(var_type='_x', var_name='servo_vel', shape=(1,1))\n",
    "\n",
    "    target_pos = m.set_variable(var_type='_u', var_name='target_pos', shape=(1,1))\n",
    "    target_vel = m.set_variable(var_type='_u', var_name='target_vel', shape=(1,1))\n",
    "\n",
    "    # Define system equations\n",
    "    dservo_pos = m.set_rhs('servo_pos', servo_vel)\n",
    "    # Assume the control input directly sets the velocity\n",
    "    dservo_vel = m.set_rhs('servo_vel', m.set_variable(var_type='_u', var_name='control_vel', shape=(1,1)))\n",
    "\n",
    "    m.set_rhs('servo_pos', dservo_pos)\n",
    "    m.set_rhs('servo_vel', dservo_vel)\n",
    "\n",
    "    m.setup()\n",
    "    return m\n",
    "\n",
    "def controller(model):\n",
    "    # Setup MPC controller\n",
    "    mpc = mpc.controller.MPC(model)\n",
    "\n",
    "    setup_mpc = {\n",
    "        'n_horizon': 10,\n",
    "        't_step': 0.1,\n",
    "        'store_full_solution': True,\n",
    "    }\n",
    "    mpc.set_param(**setup_mpc)\n",
    "\n",
    "    # Weights for the cost function\n",
    "    w_pos = 1.0  # Weight for position error\n",
    "    w_vel = 1.0  # Weight for velocity error\n",
    "\n",
    "    # Define objective function\n",
    "    pos_error = model.aux['servo_pos'] - model.aux['target_pos']\n",
    "    vel_error = model.aux['servo_vel'] - model.aux['target_vel']\n",
    "\n",
    "    mterm = w_pos * pos_error**2 + w_vel * vel_error**2  # Terminal cost\n",
    "    lterm = w_pos * pos_error**2 + w_vel * vel_error**2  # Stage cost\n",
    "\n",
    "    mpc.set_objective(mterm=mterm, lterm=lterm)\n",
    "    mpc.set_rterm(control_vel=1)  # Penalty on control velocity\n",
    "\n",
    "    # Define velocity constraints\n",
    "    max_servo_velocity =  # Define the maximum servo velocity\n",
    "    mpc.bounds['lower','_u', 'control_vel'] = -max_servo_velocity\n",
    "    mpc.bounds['upper','_u', 'control_vel'] = max_servo_velocity\n",
    "\n",
    "    mpc.setup()\n",
    "    return mpc\n",
    "\n",
    "# Initialize model and controller\n",
    "model = model()\n",
    "mpc = controller(model)\n",
    "\n",
    "# Simulation setup (for testing)\n",
    "simulator = mpc.simulator.Simulator(model)\n",
    "simulator.set_param(t_step = 0.1)\n",
    "simulator.setup()\n",
    "\n",
    "# Initial state\n",
    "x0 = np.array([[0], [0]])\n",
    "simulator.x0 = x0\n",
    "mpc.x0 = x0\n",
    "\n",
    "# Target position and velocity (example values)\n",
    "target_position = 1.0\n",
    "target_velocity = 0.5\n",
    "\n",
    "# Simulation loop\n",
    "for k in range(20):\n",
    "    u0 = np.array([[target_position], [target_velocity]])\n",
    "    y_next = simulator.make_step(u0)\n",
    "    mpc.make_step(y_next)\n"
   ]
  },
  {
   "cell_type": "code",
   "execution_count": 18,
   "metadata": {},
   "outputs": [
    {
     "data": {
      "text/plain": [
       "429.7183463481174"
      ]
     },
     "execution_count": 18,
     "metadata": {},
     "output_type": "execute_result"
    }
   ],
   "source": [
    "# Given tangential velocity and radius, calculate angular velocity in degrees per second\n",
    "\n",
    "tangential_velocity = 15  # m/s\n",
    "radius = 2  # meters\n",
    "\n",
    "# Angular velocity in radians per second\n",
    "angular_velocity_rad = tangential_velocity / radius\n",
    "\n",
    "# Convert to degrees per second\n",
    "angular_velocity_deg = angular_velocity_rad * (180 / np.pi)  # radians to degrees conversion\n",
    "angular_velocity_deg"
   ]
  }
 ],
 "metadata": {
  "kernelspec": {
   "display_name": "venv38",
   "language": "python",
   "name": "python3"
  },
  "language_info": {
   "codemirror_mode": {
    "name": "ipython",
    "version": 3
   },
   "file_extension": ".py",
   "mimetype": "text/x-python",
   "name": "python",
   "nbconvert_exporter": "python",
   "pygments_lexer": "ipython3",
   "version": "3.11.6"
  }
 },
 "nbformat": 4,
 "nbformat_minor": 2
}
